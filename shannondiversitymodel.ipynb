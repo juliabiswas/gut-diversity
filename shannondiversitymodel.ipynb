{
  "nbformat": 4,
  "nbformat_minor": 0,
  "metadata": {
    "colab": {
      "name": "shannondiversitymodel.ipynb",
      "provenance": [],
      "collapsed_sections": [],
      "machine_shape": "hm"
    },
    "kernelspec": {
      "name": "python3",
      "display_name": "Python 3"
    },
    "accelerator": "GPU"
  },
  "cells": [
    {
      "cell_type": "markdown",
      "metadata": {
        "id": "V0svC4GekZUz",
        "colab_type": "text"
      },
      "source": [
        "##Imports"
      ]
    },
    {
      "cell_type": "code",
      "metadata": {
        "id": "PbvqU_G3trVa",
        "colab_type": "code",
        "colab": {}
      },
      "source": [
        "#data\n",
        "import numpy as np\n",
        "import pandas as pd\n",
        "import statistics\n",
        "import math\n",
        "\n",
        "#images\n",
        "import skimage\n",
        "from PIL import Image, ImageEnhance\n",
        "from keras.preprocessing import image\n",
        "\n",
        "#visualization\n",
        "import matplotlib.pyplot as plt\n",
        "\n",
        "#model\n",
        "import keras\n",
        "import tensorflow as tf\n",
        "from keras.models import Sequential\n",
        "from keras.layers import Flatten, Dense\n",
        "from keras.applications.vgg16 import VGG16\n",
        "from sklearn.model_selection import train_test_split"
      ],
      "execution_count": 0,
      "outputs": []
    },
    {
      "cell_type": "code",
      "metadata": {
        "id": "tM6IC8NOAPVH",
        "colab_type": "code",
        "colab": {}
      },
      "source": [
        "#access drive files\n",
        "from google.colab import drive\n",
        "drive.mount(\"/content/drive\", force_remount = True)"
      ],
      "execution_count": 0,
      "outputs": []
    },
    {
      "cell_type": "markdown",
      "metadata": {
        "id": "n7pFKJ3jRZzW",
        "colab_type": "text"
      },
      "source": [
        "##Images"
      ]
    },
    {
      "cell_type": "code",
      "metadata": {
        "id": "iu8-kDcrbY54",
        "colab_type": "code",
        "colab": {}
      },
      "source": [
        "#determine the correct letter for the filename\n",
        "def determine_letter(l):\n",
        "    if l == 0:\n",
        "        return \"A\"\n",
        "    if l == 1:\n",
        "        return \"B\"\n",
        "    if l == 2:\n",
        "        return \"C\"\n",
        "    if l == 3:\n",
        "        return \"D\"\n",
        "    if l == 4:\n",
        "        return \"E\"\n",
        "    if l == 5:\n",
        "        return \"F\"\n",
        "    if l == 6:\n",
        "        return \"G\"\n",
        "    else:\n",
        "        return \"H\""
      ],
      "execution_count": 0,
      "outputs": []
    },
    {
      "cell_type": "code",
      "metadata": {
        "id": "yCLKY2SWhU7D",
        "colab_type": "code",
        "colab": {}
      },
      "source": [
        "#determine whether the filename includes \"Phase\" or \"Default0\"\n",
        "def determine_word(p, d, l, n):\n",
        "    if l == \"A\" or l == \"E\":\n",
        "        if passage == \"7\" and diet == \"STD\":\n",
        "          return \"Default0\"\n",
        "        else:\n",
        "          return \"Phase\"\n",
        "        \n",
        "    if passage == \"1\" and diet == \"STD\":\n",
        "      return \"Default0\"\n",
        "    \n",
        "    if n == 5 or n == 6 or n == 7 or n == 8:\n",
        "      return \"Phase\"\n",
        "    \n",
        "    if passage == \"7\":\n",
        "        if diet == \"STD\" or n == 1 or n == 2 or n == 3 or n == 4:\n",
        "          return \"Default0\"\n",
        "        else:\n",
        "          return \"Phase\"\n",
        "    \n",
        "    if n == 9 or n == 10 or n == 11 or n == 12:\n",
        "      return \"Default0\"\n",
        "    \n",
        "    else:\n",
        "      return \"Phase\""
      ],
      "execution_count": 0,
      "outputs": []
    },
    {
      "cell_type": "code",
      "metadata": {
        "id": "CN9x-EZmhZUZ",
        "colab_type": "code",
        "colab": {}
      },
      "source": [
        "#put all the images in an array\n",
        "images_array = []\n",
        "\n",
        "for p in range(0,2): #passage\n",
        "    for d in range(0,2): #diet\n",
        "        for l in range(0,2): #letter\n",
        "            for n in range(1,9): #number\n",
        "                image_set = [] #each set has 25 images\n",
        "            \n",
        "                for i in range(0,25): #image number\n",
        "                    if p == 0:\n",
        "                        passage = \"1\"\n",
        "                    else:\n",
        "                        passage = \"7\"\n",
        "                    if d == 0:\n",
        "                        diet = \"STD\"\n",
        "                    else:\n",
        "                        diet = \"MD\"\n",
        "\n",
        "                    letter = determine_letter(l)\n",
        "\n",
        "                    #open image\n",
        "                    im = Image.open(#insert path to folder with images\n",
        "                                    + \"/Passage\" + passage + \"/\" + diet + \"/\" + letter + str(n) + \n",
        "                                    \"/img_000000001_\" + determine_word(passage, diet, letter, n) + \n",
        "                                    \"_0\" + \"{0:0=2d}\".format(i*2) + \".tif\")\n",
        "\n",
        "                    #resize image\n",
        "                    im = im.resize((640, 540))\n",
        "\n",
        "                    #convert to array\n",
        "                    im = image.img_to_array(im)\n",
        "\n",
        "                    #convert to three channels\n",
        "                    im = np.concatenate((im, im, im))\n",
        "\n",
        "                    #append to image set array\n",
        "                    image_set.append(im)\n",
        "                    \n",
        "                images_array.append(image_set)"
      ],
      "execution_count": 0,
      "outputs": []
    },
    {
      "cell_type": "code",
      "metadata": {
        "id": "n32RPzzDiBHN",
        "colab_type": "code",
        "colab": {}
      },
      "source": [
        "#convert to dataframe\n",
        "image_cols = [\"0\", \"2\", \"4\", \"6\", \"8\", \"10\", \"12\", \"14\", \"16\", \n",
        "              \"18\", \"20\", \"22\", \"24\", \"26\", \"28\", \"30\", \"32\",\n",
        "              \"34\", \"36\", \"38\", \"40\", \"42\", \"44\", \"46\", \"48\"]"
      ],
      "execution_count": 0,
      "outputs": []
    },
    {
      "cell_type": "markdown",
      "metadata": {
        "id": "VNW3oAkuQWk1",
        "colab_type": "text"
      },
      "source": [
        "##Diversity Indexes"
      ]
    },
    {
      "cell_type": "code",
      "metadata": {
        "id": "rUqqOBBkT9bR",
        "colab_type": "code",
        "colab": {}
      },
      "source": [
        "#access the diversity spreadsheet\n",
        "diversity_sheet = pd.read_excel(#insert path to folder with spreadsheet + \n",
        "                                \"/Diversity.xlsx\")\n",
        "\n",
        "#drop all columns except for diets, wells, and shannon diversity indexes\n",
        "diversity_sheet = diversity_sheet.drop([\"Unnamed: 2\",\"Unnamed: 3\",\"Unnamed: 4\",\n",
        "                                          \"Unnamed: 5\", \"T7\", \"Unnamed: 8\", \n",
        "                                           \"T1\", \"Unnamed: 11\"], axis = 1)\n",
        "\n",
        "#rename the remaining columns\n",
        "diversity_sheet = diversity_sheet[1:]\n",
        "diversity_sheet.columns = [\"diet\", \"well\", \"p7 diversity\", \"p1 diversity\"]"
      ],
      "execution_count": 0,
      "outputs": []
    },
    {
      "cell_type": "code",
      "metadata": {
        "id": "7nty5zVNF7uX",
        "colab_type": "code",
        "colab": {}
      },
      "source": [
        "#data frame without diversities\n",
        "sheet = diversity_sheet.drop([\"p1 diversity\", \"p7 diversity\"], axis = 1)\n",
        "\n",
        "#data frame for p1 diversities\n",
        "diversity_sheet_p1 = sheet.copy()\n",
        "diversity_sheet_p1[\"passage\"] = \"1\"\n",
        "diversity_sheet_p1[\"diversity\"] = diversity_sheet[\"p1 diversity\"]\n",
        "\n",
        "#data frame for p7 diversities\n",
        "diversity_sheet_p7 = sheet.copy()\n",
        "diversity_sheet_p7[\"passage\"] = \"7\"\n",
        "diversity_sheet_p7[\"diversity\"] = diversity_sheet[\"p7 diversity\"]\n",
        "\n",
        "#combine the data frames\n",
        "diversity_sheet = diversity_sheet_p1.append(diversity_sheet_p7, \n",
        "                    ignore_index = True)"
      ],
      "execution_count": 0,
      "outputs": []
    },
    {
      "cell_type": "code",
      "metadata": {
        "id": "0ozFSaWcF3L9",
        "colab_type": "code",
        "colab": {}
      },
      "source": [
        "#uses A1-A8, B1-B8\n",
        "diversity_sheet = diversity_sheet[diversity_sheet[\"well\"].str.contains(\"A\")].append(diversity_sheet[diversity_sheet[\"well\"].str.contains(\"B\")])\n",
        "diversity_sheet = diversity_sheet[~diversity_sheet[\"well\"].str.contains(\"11\")]\n",
        "diversity_sheet = diversity_sheet[~diversity_sheet[\"well\"].str.contains(\"12\")]\n",
        "diversity_sheet = diversity_sheet[~diversity_sheet[\"well\"].str.contains(\"10\")]\n",
        "diversity_sheet = diversity_sheet[~diversity_sheet[\"well\"].str.contains(\"9\")]"
      ],
      "execution_count": 0,
      "outputs": []
    },
    {
      "cell_type": "code",
      "metadata": {
        "id": "JL6Xsso9CItD",
        "colab_type": "code",
        "colab": {}
      },
      "source": [
        "#add the image columns to the diversity dataframe\n",
        "data = diversity_sheet.copy()\n",
        "data[image_cols] = pd.DataFrame(images_array, index = data.index)"
      ],
      "execution_count": 0,
      "outputs": []
    },
    {
      "cell_type": "code",
      "metadata": {
        "id": "Y2_UnwNNh6eH",
        "colab_type": "code",
        "colab": {}
      },
      "source": [
        "#drop all rows with shannon diversity index of 0\n",
        "data = data[data[\"diversity\"] != 0]"
      ],
      "execution_count": 0,
      "outputs": []
    },
    {
      "cell_type": "markdown",
      "metadata": {
        "id": "_y63JGNFh8rs",
        "colab_type": "text"
      },
      "source": [
        "##Data Prep"
      ]
    },
    {
      "cell_type": "code",
      "metadata": {
        "id": "fSIjluWUh-Fm",
        "colab_type": "code",
        "colab": {}
      },
      "source": [
        "#split into input/output arrays\n",
        "X = np.array(data[image_cols])\n",
        "Y = np.array(data[\"diversity\"])"
      ],
      "execution_count": 0,
      "outputs": []
    },
    {
      "cell_type": "code",
      "metadata": {
        "id": "jM3BEJPOiE5h",
        "colab_type": "code",
        "colab": {}
      },
      "source": [
        "#split the data with 60% for training, 40% for validation/testing\n",
        "train_X, validtest_X, train_Y, validtest_Y = train_test_split(X, Y, test_size = .20, \n",
        "                                                       random_state = 128)\n",
        "\n",
        "#split the testing/validation data in half; 20% overall for each\n",
        "valid_X, test_X, valid_Y, test_Y = train_test_split(validtest_X, validtest_Y, test_size = .50, \n",
        "                                                       random_state = 128)"
      ],
      "execution_count": 0,
      "outputs": []
    },
    {
      "cell_type": "code",
      "metadata": {
        "id": "TgF2FhQuiMch",
        "colab_type": "code",
        "colab": {}
      },
      "source": [
        "#preps the x data by combining all 25 image columns into one column &\n",
        "#putting image pixels into an array/normalizes image data\n",
        "\n",
        "def prep_x(x):\n",
        "    new_x = x[:,0]\n",
        "    \n",
        "    for index in range(len(x)):\n",
        "        new_index = index*25\n",
        "        to_insert = x[index, 1:]\n",
        "        to_insert = to_insert.T #turn the row into a column\n",
        "        new_x = np.insert(new_x, new_index + 1, to_insert)\n",
        "    \n",
        "    x = new_x\n",
        "    \n",
        "    #turn x into an array of pixel arrays\n",
        "    x = np.array(x.tolist())\n",
        "    \n",
        "    #reshape array\n",
        "    x = x.reshape(-1, 540, 640, 3)\n",
        "    \n",
        "    #convert pixel values to float32 and 0 to 1 valuues\n",
        "    x = (x/4095).astype('float32')\n",
        "    \n",
        "    #mean 0, stddev 1\n",
        "    x = (x - x.mean())/x.std()\n",
        "    \n",
        "    return x"
      ],
      "execution_count": 0,
      "outputs": []
    },
    {
      "cell_type": "code",
      "metadata": {
        "id": "z12j5gTGiYVK",
        "colab_type": "code",
        "colab": {}
      },
      "source": [
        "#single column & prep images\n",
        "train_X = prep_x(train_X)\n",
        "valid_X = prep_x(valid_X)\n",
        "test_X = prep_x(test_X)"
      ],
      "execution_count": 0,
      "outputs": []
    },
    {
      "cell_type": "code",
      "metadata": {
        "id": "eYleNkj4iTsW",
        "colab_type": "code",
        "colab": {}
      },
      "source": [
        "#preps the y data by copying the diversity indexes so that \n",
        "#each image has a corresponding output\n",
        "\n",
        "def prep_y(y):\n",
        "    length = len(y) #to make sure max index for loop doesn't change\n",
        "    \n",
        "    for index in range(length):\n",
        "        new_index = index*25\n",
        "        rows = [y[new_index]] * 24\n",
        "        y = np.insert(y, new_index+1, rows)\n",
        "    \n",
        "    return y"
      ],
      "execution_count": 0,
      "outputs": []
    },
    {
      "cell_type": "code",
      "metadata": {
        "id": "sQWG6JdViVNM",
        "colab_type": "code",
        "colab": {}
      },
      "source": [
        "#prep y data\n",
        "train_Y = prep_y(train_Y)\n",
        "valid_Y = prep_y(valid_Y)\n",
        "test_Y = prep_y(test_Y)"
      ],
      "execution_count": 0,
      "outputs": []
    },
    {
      "cell_type": "markdown",
      "metadata": {
        "id": "_O0Sro7rHkI4",
        "colab_type": "text"
      },
      "source": [
        "##Training The Model"
      ]
    },
    {
      "cell_type": "code",
      "metadata": {
        "id": "vmjQxumJv5nO",
        "colab_type": "code",
        "colab": {}
      },
      "source": [
        "#define the base model\n",
        "base_model = VGG16(weights = 'imagenet', include_top = False, input_shape = (540, 640, 3), channel=1)\n",
        "\n",
        "#freeze the base model's layers\n",
        "for layer in base_model.layers:\n",
        "    layer.trainable = False\n",
        "    \n",
        "#create model\n",
        "model = Sequential()\n",
        "\n",
        "#add the base model\n",
        "model.add(base_model)\n",
        "\n",
        "#add layers for regression\n",
        "model.add(Flatten())\n",
        "model.add(Dense(1, activation= 'linear'))\n",
        "\n",
        "#model summary\n",
        "#model.summary()"
      ],
      "execution_count": 0,
      "outputs": []
    },
    {
      "cell_type": "code",
      "metadata": {
        "id": "WkeQCVHyaa0q",
        "colab_type": "code",
        "colab": {}
      },
      "source": [
        "#concordance index metric\n",
        "def c_index_metric(y_true, y_pred):\n",
        "  \n",
        "  #compares predicted values with each other\n",
        "  s1 = tf.less(tf.expand_dims(y_pred, -1), y_pred)\n",
        "  s2 = tf.equal(tf.expand_dims(y_pred, -1), y_pred)\n",
        "  s = tf.cast(s2, tf.float32) * 0.5 + tf.cast(s1, tf.float32)\n",
        "\n",
        "  #compares true values with each other\n",
        "  n = tf.less(tf.expand_dims(y_true, -1), y_true)\n",
        "  n = tf.cast(n, tf.float32)\n",
        "\n",
        "  #concordant pairings\n",
        "  s = tf.reduce_sum(tf.multiply(s,n))\n",
        "\n",
        "  #total pairings\n",
        "  n = tf.reduce_sum(n)\n",
        "\n",
        "  #concordant pairings/total pairings\n",
        "  return tf.where(tf.equal(s,0), 0.0, s/n)"
      ],
      "execution_count": 0,
      "outputs": []
    },
    {
      "cell_type": "code",
      "metadata": {
        "id": "X4SX3QEaw1IJ",
        "colab_type": "code",
        "colab": {}
      },
      "source": [
        "#define the optimizer\n",
        "sgd = keras.optimizers.SGD(lr = 0.00001, momentum = 0.9, decay = 0.0, nesterov = True)\n",
        "\n",
        "#compile the model\n",
        "model.compile(loss = keras.losses.mean_squared_error, optimizer = sgd, metrics = [c_index_metric])"
      ],
      "execution_count": 0,
      "outputs": []
    },
    {
      "cell_type": "code",
      "metadata": {
        "id": "RCVUP2BdldGS",
        "colab_type": "code",
        "colab": {}
      },
      "source": [
        "#train the model\n",
        "hist = model.fit(train_X, train_Y, epochs = 50, batch_size = 32, validation_data = (valid_X, valid_Y))"
      ],
      "execution_count": 0,
      "outputs": []
    },
    {
      "cell_type": "code",
      "metadata": {
        "id": "4dbAfL72WZ9v",
        "colab_type": "code",
        "colab": {}
      },
      "source": [
        "#plot validation concordance over training epochs\n",
        "plt.plot(hist.history['val_c_index_metric'])\n",
        "title = plt.title('concordance vs epoch')\n",
        "plt.setp(title, color = 'w')\n",
        "plt.tick_params(colors = 'w')\n",
        "plt.show()"
      ],
      "execution_count": 0,
      "outputs": []
    },
    {
      "cell_type": "markdown",
      "metadata": {
        "id": "BZwLiYVPloSi",
        "colab_type": "text"
      },
      "source": [
        "##Evaluating The Model"
      ]
    },
    {
      "cell_type": "code",
      "metadata": {
        "id": "3YFzn2sNAqOF",
        "colab_type": "code",
        "colab": {}
      },
      "source": [
        "#get array of true values\n",
        "y_true = np.array(test_Y)\n",
        "\n",
        "#get array of predicted values\n",
        "y_pred = model.predict(test_X)\n",
        "y_pred = y_pred[:,0]\n",
        "\n",
        "#for index in range(len(y_true)):\n",
        "   #print (\"true: \"+ str(y_true[index]) + \" predicted: \" + str(y_pred[index]) + \"\\n\")"
      ],
      "execution_count": 0,
      "outputs": []
    },
    {
      "cell_type": "code",
      "metadata": {
        "id": "bIYnDXAes5hY",
        "colab_type": "code",
        "colab": {}
      },
      "source": [
        "#determine the predictions' loss & concordance\n",
        "evaluation = model.evaluate(test_X, test_Y, verbose = 0)\n",
        "loss = evaluation[0]\n",
        "print(\"loss: \" + str(loss) + \"\\n\" + \"concordance: \" + str(evaluation[1])) "
      ],
      "execution_count": 0,
      "outputs": []
    },
    {
      "cell_type": "code",
      "metadata": {
        "id": "D0OabHwI5Qug",
        "colab_type": "code",
        "colab": {}
      },
      "source": [
        "#determine 95% confidence interval\n",
        "#print(\"95% CI: \" + str(loss) + \" +/- \" + str(1.96* math.sqrt((loss * (1-loss))/325)))"
      ],
      "execution_count": 0,
      "outputs": []
    },
    {
      "cell_type": "code",
      "metadata": {
        "id": "GC43E_Pfp_Eo",
        "colab_type": "code",
        "colab": {}
      },
      "source": [
        "#predicted vs true values graph\n",
        "plt.scatter(y_true, y_pred)\n",
        "\n",
        "#title\n",
        "title = plt.title(\"predictions vs true values\")\n",
        "plt.setp(title, color = 'w')\n",
        "\n",
        "#ticks\n",
        "plt.tick_params(colors = 'w')\n",
        "\n",
        "#display graph\n",
        "plt.show()"
      ],
      "execution_count": 0,
      "outputs": []
    },
    {
      "cell_type": "code",
      "metadata": {
        "id": "ceuxlbCkKWwJ",
        "colab_type": "code",
        "colab": {}
      },
      "source": [
        "#determine concordance index for testing data\n",
        "def c_index(gt, pred, **kwargs):\n",
        "    '''Basic implementation for concordance index.\n",
        "    We want score improvement, hence only compare y1 < y2.\n",
        "    This implementation should handle continuous prediction/ground truth\n",
        "    Arguments:\n",
        "        gt (list(float)): ground truth\n",
        "        pred (list(float)): predictions\n",
        "    '''\n",
        "\n",
        "    assert len(gt) == len(pred), 'Ground truth must have same size as predictions'\n",
        "    s = 0\n",
        "    n = 0\n",
        "\n",
        "    for i, y1 in enumerate(gt):\n",
        "        for j, y2 in enumerate(gt):\n",
        "            if y1 < y2:\n",
        "                s += (pred[i] < pred[j]) + 0.5 * (pred[i] == pred[j])\n",
        "                n += 1\n",
        "\n",
        "    if n == 0:\n",
        "        if 'throw_error' in kwargs:\n",
        "            raise ValueError(f'All ground truth values equal to {gt[0]}')\n",
        "        else:\n",
        "            return 0\n",
        "\n",
        "    return s / n"
      ],
      "execution_count": 0,
      "outputs": []
    },
    {
      "cell_type": "code",
      "metadata": {
        "id": "-0OV_LzxH8g-",
        "colab_type": "code",
        "colab": {}
      },
      "source": [
        "print(\"concordance index for testing data: \" + str(c_index(y_true.tolist(), y_pred.tolist())))"
      ],
      "execution_count": 0,
      "outputs": []
    },
    {
      "cell_type": "code",
      "metadata": {
        "id": "Ij5eomYNfRVy",
        "colab_type": "code",
        "colab": {}
      },
      "source": [
        "#to locate a specific value in a list\n",
        "def locate_val(vals, val):\n",
        "  for x in range(len(vals)):\n",
        "    if vals[x] == val:\n",
        "      return x"
      ],
      "execution_count": 0,
      "outputs": []
    },
    {
      "cell_type": "code",
      "metadata": {
        "id": "jYU-zwy7eq3_",
        "colab_type": "code",
        "colab": {}
      },
      "source": [
        "#taking the mean of all the outputs for each sample\n",
        "\n",
        "true_vals = []\n",
        "pred_vals = []\n",
        "count = []\n",
        "\n",
        "for i in range(len(y_true)):\n",
        "  \n",
        "  #if the true value not already in array\n",
        "  if not (y_true[i] in true_vals):\n",
        "    \n",
        "    true_vals.append(y_true[i])\n",
        "    pred_vals.append(y_pred[i])\n",
        "    count.append(1)\n",
        "  \n",
        "  #if true value already in array\n",
        "  else:\n",
        "    #index of true value in the true_vals array\n",
        "    index = locate_val(true_vals, y_true[i])\n",
        "    \n",
        "    #finding the mean of the predictions with the same true value; updating pred_vals\n",
        "    pred_vals[index] = ((pred_vals[index]*count[index]) + y_pred[index])/(count[index] + 1)\n",
        "    \n",
        "    #updating the count of the predicted values already found for the same true value\n",
        "    count[index]+=1"
      ],
      "execution_count": 0,
      "outputs": []
    },
    {
      "cell_type": "code",
      "metadata": {
        "id": "Q9QZLJy1MeTf",
        "colab_type": "code",
        "colab": {}
      },
      "source": [
        "print(\"concordance index for testing data (mean): \" + str(c_index(true_vals, pred_vals)))"
      ],
      "execution_count": 0,
      "outputs": []
    }
  ]
}